{
 "cells": [
  {
   "cell_type": "code",
   "execution_count": 1,
   "metadata": {
    "collapsed": false
   },
   "outputs": [
    {
     "name": "stdout",
     "output_type": "stream",
     "text": [
      "Populating the interactive namespace from numpy and matplotlib\n"
     ]
    }
   ],
   "source": [
    "from bson import json_util, ObjectId\n",
    "\n",
    "from gensim.models.word2vec import Word2Vec\n",
    "from operator import itemgetter\n",
    "from nltk.corpus import stopwords\n",
    "from gensim import corpora, models\n",
    "from string import punctuation\n",
    "from urllib.parse import urlparse\n",
    "import numpy as np\n",
    "import nltk\n",
    "import pandas as pd\n",
    "import networkx as nx\n",
    "import matplotlib.pyplot as plt\n",
    "import seaborn\n",
    "import math\n",
    "%pylab inline\n",
    "\n",
    "seaborn.set_style(\"whitegrid\")"
   ]
  },
  {
   "cell_type": "code",
   "execution_count": 3,
   "metadata": {
    "collapsed": false
   },
   "outputs": [],
   "source": [
    "with open('../data/charliehebdo.json') as f:\n",
    "    a = f.read()\n",
    "    list_of_dict = json_util.loads(a)\n",
    "\n",
    "# Fixing some data issues\n",
    "del_pos = []\n",
    "for pos,i in enumerate(list_of_dict):\n",
    "    if 'published' not in i:\n",
    "        i['published'] = i['updated']\n",
    "    if i['published'].year < 2015:\n",
    "        del_pos.append(i)\n",
    "\n",
    "for i in del_pos:\n",
    "    list_of_dict.remove(i)\n",
    "\n",
    "# sort the list from the first published article to the last one.\n",
    "# data[0].published < data[1].published\n",
    "articles = sorted(list_of_dict, key=itemgetter('published'))\n",
    "del articles[0]"
   ]
  },
  {
   "cell_type": "code",
   "execution_count": 4,
   "metadata": {
    "collapsed": false
   },
   "outputs": [],
   "source": [
    "import pandas as pd\n",
    "df= pd.read_csv('../charlie_results/dists_triu.csv',sep=',',header=None)\n",
    "dists_triu = df.values"
   ]
  },
  {
   "cell_type": "code",
   "execution_count": 5,
   "metadata": {
    "collapsed": true
   },
   "outputs": [],
   "source": [
    "df1= pd.read_csv('../charlie_results/list_ids.csv',sep=',',header=None)\n",
    "list_ids = df1[0].values\n",
    "list_ids=[ObjectId(i) for i in list_ids]"
   ]
  },
  {
   "cell_type": "markdown",
   "metadata": {},
   "source": [
    "## Similarity matrix analysis "
   ]
  },
  {
   "cell_type": "code",
   "execution_count": 15,
   "metadata": {
    "collapsed": false
   },
   "outputs": [
    {
     "data": {
      "image/png": "[encoded data removed]",
      "text/plain": [
       "<matplotlib.figure.Figure at 0x7f0b8cb16630>"
      ]
     },
     "metadata": {},
     "output_type": "display_data"
    }
   ],
   "source": [
    "A = []\n",
    "for i in dists_triu:\n",
    "    for j in i:\n",
    "        if j>0:\n",
    "            A.append(j)\n",
    "            \n",
    "plt.hist(A, bins=20)\n",
    "plt.title('similarity distribution pairwise')\n",
    "plt.savefig('../charlie_results/similarity_dist_pairwise.png', dip=300)\n",
    "plt.show()"
   ]
  },
  {
   "cell_type": "code",
   "execution_count": 16,
   "metadata": {
    "collapsed": false
   },
   "outputs": [
    {
     "data": {
      "image/png": "[encoded data removed]",
      "text/plain": [
       "<matplotlib.figure.Figure at 0x7f0b8ca54e80>"
      ]
     },
     "metadata": {},
     "output_type": "display_data"
    }
   ],
   "source": [
    "pairs = []\n",
    "for i in dists_triu.T:\n",
    "    pairs.append(max(i))\n",
    "    \n",
    "plt.hist(pairs)\n",
    "plt.title('similarity distribution of the most similar for each article ')\n",
    "plt.savefig('../charlie_results/similarity_dist_most_similar.png', dip=300)"
   ]
  },
  {
   "cell_type": "code",
   "execution_count": 20,
   "metadata": {
    "collapsed": false
   },
   "outputs": [],
   "source": [
    "def get_pos(data, pub_i, column_list, time_max, sim_min, outs):\n",
    "    ans = False\n",
    "    pos = None\n",
    "    \n",
    "    while ans == False:\n",
    "        sim = max(column_list)\n",
    "        pos = column_list.index(sim)\n",
    "        time_dif = (pub_i - data[pos]['published']).total_seconds()/3600\n",
    "        if sim < sim_min:\n",
    "            pos = None\n",
    "            ans = True\n",
    "        elif pos in outs or time_dif > time_max:\n",
    "            column_list[pos] = 0\n",
    "        else:\n",
    "            ans = True\n",
    "    return pos\n",
    "\n",
    "def create_graph_1(dists_triu, data, time_max=168, sim_min=0.8):\n",
    "    size = dists_triu.shape[0]\n",
    "    G = nx.Graph()\n",
    "    G.add_node(0, step=0, date=data[0]['published'], domain=urlparse(data[0]['link']).netloc, _id=data[0]['_id'],\n",
    "              children=[])\n",
    "    outs = []\n",
    "    for i in range(1,size):\n",
    "        pub_i = data[i]['published']\n",
    "        column = list(dists_triu[:,i])\n",
    "        pos = get_pos(data, pub_i, column, time_max, sim_min, outs)\n",
    "\n",
    "        if pos != None:\n",
    "            if pos not in G.nodes():\n",
    "                domain_1 = urlparse(data[pos]['link']).netloc\n",
    "                G.add_node(pos, date=data[pos]['published'], domain=domain_1,\n",
    "                           _id=data[pos]['_id'], children=[])\n",
    "            if i not in G.nodes():\n",
    "                domain_2 = urlparse(data[i]['link']).netloc\n",
    "                G.add_node(i, date=pub_i, domain=domain_2, _id=data[i]['_id'], children=[])\n",
    "\n",
    "            G.add_edge(pos, i)\n",
    "        else:\n",
    "            outs.append(i)\n",
    "    return G"
   ]
  },
  {
   "cell_type": "code",
   "execution_count": 119,
   "metadata": {
    "collapsed": false
   },
   "outputs": [],
   "source": [
    "lista =[]\n",
    "for i in np.arange(0.75,1,0.015):\n",
    "    print(i)\n",
    "    G = create_graph_1(dists_triu,articles,sim_min=i)\n",
    "    Gcc=sorted(nx.connected_component_subgraphs(G), key = len, reverse=True)\n",
    "    G0=Gcc[0]       \n",
    "    lista.append(G0.number_of_nodes()/2115)"
   ]
  },
  {
   "cell_type": "code",
   "execution_count": 106,
   "metadata": {
    "collapsed": false
   },
   "outputs": [],
   "source": [
    "lista2 =[]\n",
    "for i in np.arange(0.8,0.85,0.001):\n",
    "    G = create_graph_1(dists_triu,articles,sim_min=i)\n",
    "    Gcc=sorted(nx.connected_component_subgraphs(G), key = len, reverse=True)\n",
    "    G0= Gcc[0]\n",
    "    lista2.append(G0.number_of_nodes()/2115)"
   ]
  },
  {
   "cell_type": "code",
   "execution_count": 56,
   "metadata": {
    "collapsed": false
   },
   "outputs": [
    {
     "ename": "NameError",
     "evalue": "name 'sims' is not defined",
     "output_type": "error",
     "traceback": [
      "\u001b[1;31m---------------------------------------------------------------------------\u001b[0m",
      "\u001b[1;31mNameError\u001b[0m                                 Traceback (most recent call last)",
      "\u001b[1;32m<ipython-input-56-8394452ad087>\u001b[0m in \u001b[0;36m<module>\u001b[1;34m()\u001b[0m\n\u001b[0;32m      1\u001b[0m \u001b[0mfig1\u001b[0m \u001b[1;33m=\u001b[0m \u001b[0mplt\u001b[0m\u001b[1;33m.\u001b[0m\u001b[0mfigure\u001b[0m\u001b[1;33m(\u001b[0m\u001b[0mfigsize\u001b[0m\u001b[1;33m=\u001b[0m\u001b[1;33m(\u001b[0m\u001b[1;36m15\u001b[0m\u001b[1;33m,\u001b[0m\u001b[1;36m8\u001b[0m\u001b[1;33m)\u001b[0m\u001b[1;33m)\u001b[0m\u001b[1;33m\u001b[0m\u001b[0m\n\u001b[0;32m      2\u001b[0m \u001b[0max1\u001b[0m \u001b[1;33m=\u001b[0m \u001b[0mfig1\u001b[0m\u001b[1;33m.\u001b[0m\u001b[0madd_subplot\u001b[0m\u001b[1;33m(\u001b[0m\u001b[1;36m111\u001b[0m\u001b[1;33m)\u001b[0m\u001b[1;33m\u001b[0m\u001b[0m\n\u001b[1;32m----> 3\u001b[1;33m \u001b[0max1\u001b[0m\u001b[1;33m.\u001b[0m\u001b[0mplot\u001b[0m\u001b[1;33m(\u001b[0m\u001b[0msims\u001b[0m\u001b[1;33m,\u001b[0m \u001b[0mlista\u001b[0m\u001b[1;33m)\u001b[0m\u001b[1;33m\u001b[0m\u001b[0m\n\u001b[0m\u001b[0;32m      4\u001b[0m \u001b[0mplt\u001b[0m\u001b[1;33m.\u001b[0m\u001b[0mxlabel\u001b[0m\u001b[1;33m(\u001b[0m\u001b[1;34m'similarity treshold'\u001b[0m\u001b[1;33m,\u001b[0m \u001b[0mfontsize\u001b[0m\u001b[1;33m=\u001b[0m\u001b[1;36m19\u001b[0m\u001b[1;33m)\u001b[0m\u001b[1;33m\u001b[0m\u001b[0m\n\u001b[0;32m      5\u001b[0m \u001b[0mplt\u001b[0m\u001b[1;33m.\u001b[0m\u001b[0mylabel\u001b[0m\u001b[1;33m(\u001b[0m\u001b[1;34m'fraction of articles in the giant component'\u001b[0m\u001b[1;33m,\u001b[0m \u001b[0mfontsize\u001b[0m\u001b[1;33m=\u001b[0m\u001b[1;36m19\u001b[0m\u001b[1;33m)\u001b[0m\u001b[1;33m\u001b[0m\u001b[0m\n",
      "\u001b[1;31mNameError\u001b[0m: name 'sims' is not defined"
     ]
    },
    {
     "data": {
      "image/png": "[encoded data removed]",
      "text/plain": [
       "<matplotlib.figure.Figure at 0x7f0b8c370208>"
      ]
     },
     "metadata": {},
     "output_type": "display_data"
    }
   ],
   "source": [
    "fig1 = plt.figure(figsize=(15,8))\n",
    "ax1 = fig1.add_subplot(111)\n",
    "ax1.plot(sims, lista)\n",
    "plt.xlabel('similarity treshold', fontsize=19)\n",
    "plt.ylabel('fraction of articles in the giant component', fontsize=19)\n",
    "ax2 = plt.axes([.63, .5, .25, .3])\n",
    "ax2.plot(sims2,lista2)\n",
    "savefig('../charlie_results/similarity_treshold.png', dip=300)"
   ]
  },
  {
   "cell_type": "markdown",
   "metadata": {
    "collapsed": true
   },
   "source": [
    "## Time matrix analysis"
   ]
  },
  {
   "cell_type": "code",
   "execution_count": 36,
   "metadata": {
    "collapsed": true
   },
   "outputs": [],
   "source": [
    "def consulta(id,data):\n",
    "    for i in data:\n",
    "        if i['_id'] == id:\n",
    "            return i\n",
    "\n",
    "def create_time_list(data,ids):\n",
    "    lista = []\n",
    "    for i in ids:\n",
    "        article = consulta(i,data)\n",
    "        if 'updated' in article:\n",
    "             lista.append(article['updated'])\n",
    "        else:\n",
    "            lista.append(article['published'])\n",
    "    return lista\n",
    "\n",
    "#cria matriz triangular de diferença de tempos\n",
    "# cada posição x_ij, é a diferença do article da linha i com o article da linha j \n",
    "def create_time_dif(time_list):\n",
    "    times_dif = np.full(dists_triu.shape,300)\n",
    "    for l,i in enumerate(time_list):\n",
    "        c = l\n",
    "        for k,j in enumerate(time_list[l:]):\n",
    "            dif = i-j\n",
    "            day_dif = abs(dif.total_seconds()/3600)/24.\n",
    "            times_dif[l,c] = day_dif\n",
    "            c+=1\n",
    "    np.fill_diagonal(times_dif,0)\n",
    "    return(times_dif)"
   ]
  },
  {
   "cell_type": "code",
   "execution_count": 37,
   "metadata": {
    "collapsed": false
   },
   "outputs": [
    {
     "name": "stderr",
     "output_type": "stream",
     "text": [
      "/home/elisa/anaconda3/lib/python3.5/site-packages/numpy/core/numeric.py:294: FutureWarning: in the future, full((2115, 2115), 300) will return an array of dtype('int64')\n",
      "  format(shape, fill_value, array(fill_value).dtype), FutureWarning)\n"
     ]
    }
   ],
   "source": [
    "time_list = create_time_list(articles,list_ids)\n",
    "difs = create_time_dif(time_list)"
   ]
  },
  {
   "cell_type": "code",
   "execution_count": 38,
   "metadata": {
    "collapsed": true
   },
   "outputs": [],
   "source": [
    "df = pd.DataFrame(columns=[1,2,3,4,5,6,7,8,9,10])\n",
    "\n",
    "for days in [1,2,3,4,5,6,7,8,9,10,11,12,13,14,15]:\n",
    "    days_column = []\n",
    "    \n",
    "    for i in range(dists_triu.shape[0]-1):\n",
    "        c = i+1\n",
    "        \n",
    "        dists_column = dists_triu[:,c]\n",
    "        difs_column = difs[:,c]\n",
    " \n",
    "        #posição dos artigos que possuem diferença de ate days\n",
    "        difs_ok = np.where(difs_column <= days)\n",
    "        for i in difs_ok[0]:\n",
    "            if difs_column[i] > days:\n",
    "                print(days,i)\n",
    "        if difs_ok[0].size != 0:\n",
    "            dists_ok = [dists_column[i] for i in difs_ok[0]]\n",
    "            dist = max(dists_ok)\n",
    "            if dist < 0.8:\n",
    "                ans = np.nan\n",
    "            else:\n",
    "                pos = dists_ok.index(dist)\n",
    "                ans = difs_column[difs_ok[0][pos]]\n",
    "                if ans > days:\n",
    "                    print('i')\n",
    "            \n",
    "        else:\n",
    "            ans = np.nan\n",
    "        days_column.append(ans)\n",
    "\n",
    "    df[days] = days_column\n",
    "    "
   ]
  },
  {
   "cell_type": "code",
   "execution_count": 39,
   "metadata": {
    "collapsed": false
   },
   "outputs": [
    {
     "data": {
      "text/html": [
       "<div>\n",
       "<table border=\"1\" class=\"dataframe\">\n",
       "  <thead>\n",
       "    <tr style=\"text-align: right;\">\n",
       "      <th></th>\n",
       "      <th>1</th>\n",
       "      <th>2</th>\n",
       "      <th>3</th>\n",
       "      <th>4</th>\n",
       "      <th>5</th>\n",
       "      <th>6</th>\n",
       "      <th>7</th>\n",
       "      <th>8</th>\n",
       "      <th>9</th>\n",
       "      <th>10</th>\n",
       "      <th>11</th>\n",
       "      <th>12</th>\n",
       "      <th>13</th>\n",
       "      <th>14</th>\n",
       "      <th>15</th>\n",
       "    </tr>\n",
       "  </thead>\n",
       "  <tbody>\n",
       "    <tr>\n",
       "      <th>0</th>\n",
       "      <td>0.630898</td>\n",
       "      <td>0.630898</td>\n",
       "      <td>0.630898</td>\n",
       "      <td>0.630898</td>\n",
       "      <td>0.630898</td>\n",
       "      <td>0.630898</td>\n",
       "      <td>0.630898</td>\n",
       "      <td>0.630898</td>\n",
       "      <td>0.630898</td>\n",
       "      <td>0.630898</td>\n",
       "      <td>0.630898</td>\n",
       "      <td>0.630898</td>\n",
       "      <td>0.630898</td>\n",
       "      <td>0.630898</td>\n",
       "      <td>0.630898</td>\n",
       "    </tr>\n",
       "    <tr>\n",
       "      <th>1</th>\n",
       "      <td>0.737300</td>\n",
       "      <td>0.737300</td>\n",
       "      <td>0.737300</td>\n",
       "      <td>0.737300</td>\n",
       "      <td>0.737300</td>\n",
       "      <td>0.737300</td>\n",
       "      <td>0.737300</td>\n",
       "      <td>0.737300</td>\n",
       "      <td>0.737300</td>\n",
       "      <td>0.737300</td>\n",
       "      <td>0.737300</td>\n",
       "      <td>0.737300</td>\n",
       "      <td>0.737300</td>\n",
       "      <td>0.737300</td>\n",
       "      <td>0.737300</td>\n",
       "    </tr>\n",
       "    <tr>\n",
       "      <th>2</th>\n",
       "      <td>0.025562</td>\n",
       "      <td>0.025562</td>\n",
       "      <td>0.025562</td>\n",
       "      <td>0.025562</td>\n",
       "      <td>0.025562</td>\n",
       "      <td>0.025562</td>\n",
       "      <td>0.025562</td>\n",
       "      <td>0.025562</td>\n",
       "      <td>0.025562</td>\n",
       "      <td>0.025562</td>\n",
       "      <td>0.025562</td>\n",
       "      <td>0.025562</td>\n",
       "      <td>0.025562</td>\n",
       "      <td>0.025562</td>\n",
       "      <td>0.025562</td>\n",
       "    </tr>\n",
       "    <tr>\n",
       "      <th>3</th>\n",
       "      <td>0.006145</td>\n",
       "      <td>0.006145</td>\n",
       "      <td>0.006145</td>\n",
       "      <td>0.006145</td>\n",
       "      <td>0.006145</td>\n",
       "      <td>0.006145</td>\n",
       "      <td>0.006145</td>\n",
       "      <td>0.006145</td>\n",
       "      <td>0.006145</td>\n",
       "      <td>0.006145</td>\n",
       "      <td>0.006145</td>\n",
       "      <td>0.006145</td>\n",
       "      <td>0.006145</td>\n",
       "      <td>0.006145</td>\n",
       "      <td>0.006145</td>\n",
       "    </tr>\n",
       "    <tr>\n",
       "      <th>4</th>\n",
       "      <td>0.742420</td>\n",
       "      <td>0.742420</td>\n",
       "      <td>0.742420</td>\n",
       "      <td>0.742420</td>\n",
       "      <td>0.742420</td>\n",
       "      <td>0.742420</td>\n",
       "      <td>0.742420</td>\n",
       "      <td>0.742420</td>\n",
       "      <td>0.742420</td>\n",
       "      <td>0.742420</td>\n",
       "      <td>0.742420</td>\n",
       "      <td>0.742420</td>\n",
       "      <td>0.742420</td>\n",
       "      <td>0.742420</td>\n",
       "      <td>0.742420</td>\n",
       "    </tr>\n",
       "  </tbody>\n",
       "</table>\n",
       "</div>"
      ],
      "text/plain": [
       "         1         2         3         4         5         6         7   \\\n",
       "0  0.630898  0.630898  0.630898  0.630898  0.630898  0.630898  0.630898   \n",
       "1  0.737300  0.737300  0.737300  0.737300  0.737300  0.737300  0.737300   \n",
       "2  0.025562  0.025562  0.025562  0.025562  0.025562  0.025562  0.025562   \n",
       "3  0.006145  0.006145  0.006145  0.006145  0.006145  0.006145  0.006145   \n",
       "4  0.742420  0.742420  0.742420  0.742420  0.742420  0.742420  0.742420   \n",
       "\n",
       "         8         9         10        11        12        13        14  \\\n",
       "0  0.630898  0.630898  0.630898  0.630898  0.630898  0.630898  0.630898   \n",
       "1  0.737300  0.737300  0.737300  0.737300  0.737300  0.737300  0.737300   \n",
       "2  0.025562  0.025562  0.025562  0.025562  0.025562  0.025562  0.025562   \n",
       "3  0.006145  0.006145  0.006145  0.006145  0.006145  0.006145  0.006145   \n",
       "4  0.742420  0.742420  0.742420  0.742420  0.742420  0.742420  0.742420   \n",
       "\n",
       "         15  \n",
       "0  0.630898  \n",
       "1  0.737300  \n",
       "2  0.025562  \n",
       "3  0.006145  \n",
       "4  0.742420  "
      ]
     },
     "execution_count": 39,
     "metadata": {},
     "output_type": "execute_result"
    }
   ],
   "source": [
    "df.head()"
   ]
  },
  {
   "cell_type": "code",
   "execution_count": 46,
   "metadata": {
    "collapsed": false
   },
   "outputs": [
    {
     "name": "stderr",
     "output_type": "stream",
     "text": [
      "/home/elisa/anaconda3/lib/python3.5/site-packages/ipykernel/__main__.py:5: FutureWarning: \n",
      "The default value for 'return_type' will change to 'axes' in a future release.\n",
      " To use the future behavior now, set return_type='axes'.\n",
      " To keep the previous behavior and silence this warning, set return_type='dict'.\n"
     ]
    },
    {
     "data": {
      "image/png": "[encoded data removed]",
      "text/plain": [
       "<matplotlib.figure.Figure at 0x7f0b8c2767f0>"
      ]
     },
     "metadata": {},
     "output_type": "display_data"
    }
   ],
   "source": [
    "l1 = np.arange(-2,16)\n",
    "\n",
    "plt.figure(figsize=(15, 6))\n",
    "\n",
    "df.boxplot(whis=95/50)\n",
    "\n",
    "plt.plot(list(l1), 18*[7], '--', c='r')\n",
    "axis([0,16,0,8])\n",
    "grid(False)\n",
    "plt.xlabel('time window (days)',fontsize=18)\n",
    "plt.ylabel('influence range (days)', fontsize=18)\n",
    "savefig('../charlie_results/time_boxplot.png', dip=300)"
   ]
  },
  {
   "cell_type": "code",
   "execution_count": 43,
   "metadata": {
    "collapsed": false
   },
   "outputs": [
    {
     "data": {
      "image/png": "[encoded data removed]",
      "text/plain": [
       "<matplotlib.figure.Figure at 0x7f0b8c9929b0>"
      ]
     },
     "metadata": {},
     "output_type": "display_data"
    }
   ],
   "source": [
    "fig = figure(figsize=(15,8))\n",
    "ax = gca()\n",
    "seaborn.violinplot(data=df.dropna(), ax=ax)\n",
    "grid(True)"
   ]
  },
  {
   "cell_type": "code",
   "execution_count": null,
   "metadata": {
    "collapsed": true
   },
   "outputs": [],
   "source": []
  }
 ],
 "metadata": {
  "kernelspec": {
   "display_name": "Python 3",
   "language": "python",
   "name": "python3"
  },
  "language_info": {
   "codemirror_mode": {
    "name": "ipython",
    "version": 3
   },
   "file_extension": ".py",
   "mimetype": "text/x-python",
   "name": "python",
   "nbconvert_exporter": "python",
   "pygments_lexer": "ipython3",
   "version": "3.5.1"
  }
 },
 "nbformat": 4,
 "nbformat_minor": 0
}
